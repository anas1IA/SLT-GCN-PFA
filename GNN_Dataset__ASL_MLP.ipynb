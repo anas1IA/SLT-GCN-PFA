{
  "nbformat": 4,
  "nbformat_minor": 0,
  "metadata": {
    "colab": {
      "provenance": [],
      "gpuType": "T4",
      "include_colab_link": true
    },
    "kernelspec": {
      "name": "python3",
      "display_name": "Python 3"
    },
    "language_info": {
      "name": "python"
    },
    "accelerator": "GPU"
  },
  "cells": [
    {
      "cell_type": "markdown",
      "metadata": {
        "id": "view-in-github",
        "colab_type": "text"
      },
      "source": [
        "<a href=\"https://colab.research.google.com/github/anas1IA/SLT-GCN-PFA/blob/main/GNN_Dataset__ASL_MLP.ipynb\" target=\"_parent\"><img src=\"https://colab.research.google.com/assets/colab-badge.svg\" alt=\"Open In Colab\"/></a>"
      ]
    },
    {
      "cell_type": "code",
      "source": [
        "!pip install rarfile"
      ],
      "metadata": {
        "colab": {
          "base_uri": "https://localhost:8080/"
        },
        "id": "5m2gujCHk9ux",
        "outputId": "f5c80538-276d-429e-a688-c87616339c5d"
      },
      "execution_count": 61,
      "outputs": [
        {
          "output_type": "stream",
          "name": "stdout",
          "text": [
            "Requirement already satisfied: rarfile in /usr/local/lib/python3.10/dist-packages (4.2)\n"
          ]
        }
      ]
    },
    {
      "cell_type": "code",
      "source": [
        "!pip  install torch_geometric"
      ],
      "metadata": {
        "colab": {
          "base_uri": "https://localhost:8080/"
        },
        "id": "ovLP-KqClE6J",
        "outputId": "da8b3f74-4779-401f-a741-dd402beb6692"
      },
      "execution_count": 62,
      "outputs": [
        {
          "output_type": "stream",
          "name": "stdout",
          "text": [
            "Requirement already satisfied: torch_geometric in /usr/local/lib/python3.10/dist-packages (2.5.3)\n",
            "Requirement already satisfied: tqdm in /usr/local/lib/python3.10/dist-packages (from torch_geometric) (4.66.4)\n",
            "Requirement already satisfied: numpy in /usr/local/lib/python3.10/dist-packages (from torch_geometric) (1.25.2)\n",
            "Requirement already satisfied: scipy in /usr/local/lib/python3.10/dist-packages (from torch_geometric) (1.11.4)\n",
            "Requirement already satisfied: fsspec in /usr/local/lib/python3.10/dist-packages (from torch_geometric) (2023.6.0)\n",
            "Requirement already satisfied: jinja2 in /usr/local/lib/python3.10/dist-packages (from torch_geometric) (3.1.4)\n",
            "Requirement already satisfied: aiohttp in /usr/local/lib/python3.10/dist-packages (from torch_geometric) (3.9.5)\n",
            "Requirement already satisfied: requests in /usr/local/lib/python3.10/dist-packages (from torch_geometric) (2.31.0)\n",
            "Requirement already satisfied: pyparsing in /usr/local/lib/python3.10/dist-packages (from torch_geometric) (3.1.2)\n",
            "Requirement already satisfied: scikit-learn in /usr/local/lib/python3.10/dist-packages (from torch_geometric) (1.2.2)\n",
            "Requirement already satisfied: psutil>=5.8.0 in /usr/local/lib/python3.10/dist-packages (from torch_geometric) (5.9.5)\n",
            "Requirement already satisfied: aiosignal>=1.1.2 in /usr/local/lib/python3.10/dist-packages (from aiohttp->torch_geometric) (1.3.1)\n",
            "Requirement already satisfied: attrs>=17.3.0 in /usr/local/lib/python3.10/dist-packages (from aiohttp->torch_geometric) (23.2.0)\n",
            "Requirement already satisfied: frozenlist>=1.1.1 in /usr/local/lib/python3.10/dist-packages (from aiohttp->torch_geometric) (1.4.1)\n",
            "Requirement already satisfied: multidict<7.0,>=4.5 in /usr/local/lib/python3.10/dist-packages (from aiohttp->torch_geometric) (6.0.5)\n",
            "Requirement already satisfied: yarl<2.0,>=1.0 in /usr/local/lib/python3.10/dist-packages (from aiohttp->torch_geometric) (1.9.4)\n",
            "Requirement already satisfied: async-timeout<5.0,>=4.0 in /usr/local/lib/python3.10/dist-packages (from aiohttp->torch_geometric) (4.0.3)\n",
            "Requirement already satisfied: MarkupSafe>=2.0 in /usr/local/lib/python3.10/dist-packages (from jinja2->torch_geometric) (2.1.5)\n",
            "Requirement already satisfied: charset-normalizer<4,>=2 in /usr/local/lib/python3.10/dist-packages (from requests->torch_geometric) (3.3.2)\n",
            "Requirement already satisfied: idna<4,>=2.5 in /usr/local/lib/python3.10/dist-packages (from requests->torch_geometric) (3.7)\n",
            "Requirement already satisfied: urllib3<3,>=1.21.1 in /usr/local/lib/python3.10/dist-packages (from requests->torch_geometric) (2.0.7)\n",
            "Requirement already satisfied: certifi>=2017.4.17 in /usr/local/lib/python3.10/dist-packages (from requests->torch_geometric) (2024.2.2)\n",
            "Requirement already satisfied: joblib>=1.1.1 in /usr/local/lib/python3.10/dist-packages (from scikit-learn->torch_geometric) (1.4.2)\n",
            "Requirement already satisfied: threadpoolctl>=2.0.0 in /usr/local/lib/python3.10/dist-packages (from scikit-learn->torch_geometric) (3.5.0)\n"
          ]
        }
      ]
    },
    {
      "cell_type": "code",
      "source": [
        "import torch\n",
        "from torch.utils.data import TensorDataset\n",
        "import rarfile\n",
        "import os\n",
        "from google.colab import files\n",
        "from torch_geometric.loader import DataLoader"
      ],
      "metadata": {
        "id": "9uKqtzwdKPM2"
      },
      "execution_count": 63,
      "outputs": []
    },
    {
      "cell_type": "code",
      "source": [
        "!git clone https://github.com/JamorMoussa/SLT-GCN-PFA.git"
      ],
      "metadata": {
        "colab": {
          "base_uri": "https://localhost:8080/"
        },
        "id": "QndkrKv0hSjB",
        "outputId": "2ae53b4d-79d3-49d5-f38a-f9f19304ca94"
      },
      "execution_count": 64,
      "outputs": [
        {
          "output_type": "stream",
          "name": "stdout",
          "text": [
            "fatal: destination path 'SLT-GCN-PFA' already exists and is not an empty directory.\n"
          ]
        }
      ]
    },
    {
      "cell_type": "code",
      "source": [
        "!mv SLT-GCN-PFA/asl_data/ asl_data"
      ],
      "metadata": {
        "colab": {
          "base_uri": "https://localhost:8080/"
        },
        "id": "7Ke_HaNoideV",
        "outputId": "64e8fe41-19b5-4bfb-cded-5b84dcb6fe91"
      },
      "execution_count": 65,
      "outputs": [
        {
          "output_type": "stream",
          "name": "stdout",
          "text": [
            "mv: cannot stat 'SLT-GCN-PFA/asl_data/': No such file or directory\n"
          ]
        }
      ]
    },
    {
      "cell_type": "code",
      "source": [
        "# uploaded = files.upload()"
      ],
      "metadata": {
        "id": "S1r6ipRv7N0Q"
      },
      "execution_count": 66,
      "outputs": []
    },
    {
      "cell_type": "code",
      "source": [
        "# !mkdir train"
      ],
      "metadata": {
        "id": "AQBju_ih8Poq"
      },
      "execution_count": 67,
      "outputs": []
    },
    {
      "cell_type": "code",
      "source": [
        "# !mv asl_dataset.py train/\n"
      ],
      "metadata": {
        "id": "ynkN-G6I-ZcW"
      },
      "execution_count": 68,
      "outputs": []
    },
    {
      "cell_type": "code",
      "source": [
        "# !ls train/"
      ],
      "metadata": {
        "id": "_l39AWwN-e0A"
      },
      "execution_count": 69,
      "outputs": []
    },
    {
      "cell_type": "code",
      "execution_count": 70,
      "metadata": {
        "id": "UwS0_i-C6K8E"
      },
      "outputs": [],
      "source": [
        "# with rarfile.RarFile('dataset.rar', 'r') as rar_ref:\n",
        "#     rar_ref.extractall('/content/train')"
      ]
    },
    {
      "cell_type": "code",
      "source": [
        "from asl_data.asl_dataset import ASLDataset"
      ],
      "metadata": {
        "id": "F3XHJ9Vz81Um"
      },
      "execution_count": 71,
      "outputs": []
    },
    {
      "cell_type": "code",
      "source": [
        "dataset = ASLDataset(root=\"/content/asl_data/dataset\")"
      ],
      "metadata": {
        "id": "Ys0IzX1q59M5"
      },
      "execution_count": 72,
      "outputs": []
    },
    {
      "cell_type": "code",
      "source": [
        "print(len(dataset))"
      ],
      "metadata": {
        "colab": {
          "base_uri": "https://localhost:8080/"
        },
        "id": "y8G-qGz9jSXq",
        "outputId": "81c22d3f-2a89-4d63-80c9-a814807a982e"
      },
      "execution_count": 73,
      "outputs": [
        {
          "output_type": "stream",
          "name": "stdout",
          "text": [
            "19308\n"
          ]
        }
      ]
    },
    {
      "cell_type": "code",
      "source": [
        "dataset[0].x"
      ],
      "metadata": {
        "colab": {
          "base_uri": "https://localhost:8080/"
        },
        "id": "Z9dyRk1YA2FH",
        "outputId": "93dcec07-4807-44a2-8855-c5795ddebd50"
      },
      "execution_count": 74,
      "outputs": [
        {
          "output_type": "execute_result",
          "data": {
            "text/plain": [
              "tensor([[0.2464, 0.8219],\n",
              "        [0.3334, 0.7889],\n",
              "        [0.4074, 0.6826],\n",
              "        [0.4180, 0.5853],\n",
              "        [0.4072, 0.5091],\n",
              "        [0.3458, 0.5987],\n",
              "        [0.3642, 0.5448],\n",
              "        [0.3567, 0.6165],\n",
              "        [0.3451, 0.6839],\n",
              "        [0.2778, 0.6062],\n",
              "        [0.2951, 0.5564],\n",
              "        [0.2942, 0.6521],\n",
              "        [0.2941, 0.7249],\n",
              "        [0.2114, 0.6235],\n",
              "        [0.2318, 0.5847],\n",
              "        [0.2380, 0.6798],\n",
              "        [0.2402, 0.7465],\n",
              "        [0.1446, 0.6485],\n",
              "        [0.1673, 0.6116],\n",
              "        [0.1814, 0.6860],\n",
              "        [0.1873, 0.7384]])"
            ]
          },
          "metadata": {},
          "execution_count": 74
        }
      ]
    },
    {
      "cell_type": "code",
      "source": [
        "dataset.x.flatten()"
      ],
      "metadata": {
        "colab": {
          "base_uri": "https://localhost:8080/"
        },
        "id": "ZNPExEA7AKeI",
        "outputId": "40bcc8e4-7cc5-498b-91af-da50b04c8be1"
      },
      "execution_count": 75,
      "outputs": [
        {
          "output_type": "execute_result",
          "data": {
            "text/plain": [
              "tensor([0.2464, 0.8219, 0.3334,  ..., 0.2814, 0.3733, 0.2576])"
            ]
          },
          "metadata": {},
          "execution_count": 75
        }
      ]
    },
    {
      "cell_type": "code",
      "source": [
        "dataset.y"
      ],
      "metadata": {
        "colab": {
          "base_uri": "https://localhost:8080/"
        },
        "id": "nOm64PZSAZlB",
        "outputId": "7fa77fa1-b49f-47f9-8a27-09725332d87b"
      },
      "execution_count": 76,
      "outputs": [
        {
          "output_type": "execute_result",
          "data": {
            "text/plain": [
              "tensor([ 6,  6,  6,  ..., 17, 17, 17])"
            ]
          },
          "metadata": {},
          "execution_count": 76
        }
      ]
    },
    {
      "cell_type": "code",
      "source": [
        "X = []\n",
        "y = []\n",
        "for data in  dataset:\n",
        "  X.append(data.x.flatten())\n",
        "  y.append(data.y)"
      ],
      "metadata": {
        "id": "pLuFj6lwAsgu"
      },
      "execution_count": 77,
      "outputs": []
    },
    {
      "cell_type": "code",
      "source": [
        "y"
      ],
      "metadata": {
        "colab": {
          "base_uri": "https://localhost:8080/"
        },
        "id": "O2dCtppwB9yQ",
        "outputId": "a0166137-29dc-429f-f3cf-bc907cc6e022"
      },
      "execution_count": 78,
      "outputs": [
        {
          "output_type": "execute_result",
          "data": {
            "text/plain": [
              "[tensor([6]),\n",
              " tensor([6]),\n",
              " tensor([6]),\n",
              " tensor([6]),\n",
              " tensor([6]),\n",
              " tensor([6]),\n",
              " tensor([6]),\n",
              " tensor([6]),\n",
              " tensor([6]),\n",
              " tensor([6]),\n",
              " tensor([6]),\n",
              " tensor([6]),\n",
              " tensor([6]),\n",
              " tensor([6]),\n",
              " tensor([6]),\n",
              " tensor([6]),\n",
              " tensor([6]),\n",
              " tensor([6]),\n",
              " tensor([6]),\n",
              " tensor([6]),\n",
              " tensor([6]),\n",
              " tensor([6]),\n",
              " tensor([6]),\n",
              " tensor([6]),\n",
              " tensor([6]),\n",
              " tensor([6]),\n",
              " tensor([6]),\n",
              " tensor([6]),\n",
              " tensor([6]),\n",
              " tensor([6]),\n",
              " tensor([6]),\n",
              " tensor([6]),\n",
              " tensor([6]),\n",
              " tensor([6]),\n",
              " tensor([6]),\n",
              " tensor([6]),\n",
              " tensor([6]),\n",
              " tensor([6]),\n",
              " tensor([6]),\n",
              " tensor([6]),\n",
              " tensor([6]),\n",
              " tensor([6]),\n",
              " tensor([6]),\n",
              " tensor([6]),\n",
              " tensor([6]),\n",
              " tensor([6]),\n",
              " tensor([6]),\n",
              " tensor([6]),\n",
              " tensor([6]),\n",
              " tensor([6]),\n",
              " tensor([6]),\n",
              " tensor([6]),\n",
              " tensor([6]),\n",
              " tensor([6]),\n",
              " tensor([6]),\n",
              " tensor([6]),\n",
              " tensor([6]),\n",
              " tensor([6]),\n",
              " tensor([6]),\n",
              " tensor([6]),\n",
              " tensor([6]),\n",
              " tensor([6]),\n",
              " tensor([6]),\n",
              " tensor([6]),\n",
              " tensor([6]),\n",
              " tensor([6]),\n",
              " tensor([6]),\n",
              " tensor([6]),\n",
              " tensor([6]),\n",
              " tensor([6]),\n",
              " tensor([6]),\n",
              " tensor([6]),\n",
              " tensor([6]),\n",
              " tensor([6]),\n",
              " tensor([6]),\n",
              " tensor([6]),\n",
              " tensor([6]),\n",
              " tensor([6]),\n",
              " tensor([6]),\n",
              " tensor([6]),\n",
              " tensor([6]),\n",
              " tensor([6]),\n",
              " tensor([6]),\n",
              " tensor([6]),\n",
              " tensor([6]),\n",
              " tensor([6]),\n",
              " tensor([6]),\n",
              " tensor([6]),\n",
              " tensor([6]),\n",
              " tensor([6]),\n",
              " tensor([6]),\n",
              " tensor([6]),\n",
              " tensor([6]),\n",
              " tensor([6]),\n",
              " tensor([6]),\n",
              " tensor([6]),\n",
              " tensor([6]),\n",
              " tensor([6]),\n",
              " tensor([6]),\n",
              " tensor([6]),\n",
              " tensor([6]),\n",
              " tensor([6]),\n",
              " tensor([6]),\n",
              " tensor([6]),\n",
              " tensor([6]),\n",
              " tensor([6]),\n",
              " tensor([6]),\n",
              " tensor([6]),\n",
              " tensor([6]),\n",
              " tensor([6]),\n",
              " tensor([6]),\n",
              " tensor([6]),\n",
              " tensor([6]),\n",
              " tensor([6]),\n",
              " tensor([6]),\n",
              " tensor([6]),\n",
              " tensor([6]),\n",
              " tensor([6]),\n",
              " tensor([6]),\n",
              " tensor([6]),\n",
              " tensor([6]),\n",
              " tensor([6]),\n",
              " tensor([6]),\n",
              " tensor([6]),\n",
              " tensor([6]),\n",
              " tensor([6]),\n",
              " tensor([6]),\n",
              " tensor([6]),\n",
              " tensor([6]),\n",
              " tensor([6]),\n",
              " tensor([6]),\n",
              " tensor([6]),\n",
              " tensor([6]),\n",
              " tensor([6]),\n",
              " tensor([6]),\n",
              " tensor([6]),\n",
              " tensor([6]),\n",
              " tensor([6]),\n",
              " tensor([6]),\n",
              " tensor([6]),\n",
              " tensor([6]),\n",
              " tensor([6]),\n",
              " tensor([6]),\n",
              " tensor([6]),\n",
              " tensor([6]),\n",
              " tensor([6]),\n",
              " tensor([6]),\n",
              " tensor([6]),\n",
              " tensor([6]),\n",
              " tensor([6]),\n",
              " tensor([6]),\n",
              " tensor([6]),\n",
              " tensor([6]),\n",
              " tensor([6]),\n",
              " tensor([6]),\n",
              " tensor([6]),\n",
              " tensor([6]),\n",
              " tensor([6]),\n",
              " tensor([6]),\n",
              " tensor([6]),\n",
              " tensor([6]),\n",
              " tensor([6]),\n",
              " tensor([6]),\n",
              " tensor([6]),\n",
              " tensor([6]),\n",
              " tensor([6]),\n",
              " tensor([6]),\n",
              " tensor([6]),\n",
              " tensor([6]),\n",
              " tensor([6]),\n",
              " tensor([6]),\n",
              " tensor([6]),\n",
              " tensor([6]),\n",
              " tensor([6]),\n",
              " tensor([6]),\n",
              " tensor([6]),\n",
              " tensor([6]),\n",
              " tensor([6]),\n",
              " tensor([6]),\n",
              " tensor([6]),\n",
              " tensor([6]),\n",
              " tensor([6]),\n",
              " tensor([6]),\n",
              " tensor([6]),\n",
              " tensor([6]),\n",
              " tensor([6]),\n",
              " tensor([6]),\n",
              " tensor([6]),\n",
              " tensor([6]),\n",
              " tensor([6]),\n",
              " tensor([6]),\n",
              " tensor([6]),\n",
              " tensor([6]),\n",
              " tensor([6]),\n",
              " tensor([6]),\n",
              " tensor([6]),\n",
              " tensor([6]),\n",
              " tensor([6]),\n",
              " tensor([6]),\n",
              " tensor([6]),\n",
              " tensor([6]),\n",
              " tensor([6]),\n",
              " tensor([6]),\n",
              " tensor([6]),\n",
              " tensor([6]),\n",
              " tensor([6]),\n",
              " tensor([6]),\n",
              " tensor([6]),\n",
              " tensor([6]),\n",
              " tensor([6]),\n",
              " tensor([6]),\n",
              " tensor([6]),\n",
              " tensor([6]),\n",
              " tensor([6]),\n",
              " tensor([6]),\n",
              " tensor([6]),\n",
              " tensor([6]),\n",
              " tensor([6]),\n",
              " tensor([6]),\n",
              " tensor([6]),\n",
              " tensor([6]),\n",
              " tensor([6]),\n",
              " tensor([6]),\n",
              " tensor([6]),\n",
              " tensor([6]),\n",
              " tensor([6]),\n",
              " tensor([6]),\n",
              " tensor([6]),\n",
              " tensor([6]),\n",
              " tensor([6]),\n",
              " tensor([6]),\n",
              " tensor([6]),\n",
              " tensor([6]),\n",
              " tensor([6]),\n",
              " tensor([6]),\n",
              " tensor([6]),\n",
              " tensor([6]),\n",
              " tensor([6]),\n",
              " tensor([6]),\n",
              " tensor([6]),\n",
              " tensor([6]),\n",
              " tensor([6]),\n",
              " tensor([6]),\n",
              " tensor([6]),\n",
              " tensor([6]),\n",
              " tensor([6]),\n",
              " tensor([6]),\n",
              " tensor([6]),\n",
              " tensor([6]),\n",
              " tensor([6]),\n",
              " tensor([6]),\n",
              " tensor([6]),\n",
              " tensor([6]),\n",
              " tensor([6]),\n",
              " tensor([6]),\n",
              " tensor([6]),\n",
              " tensor([6]),\n",
              " tensor([6]),\n",
              " tensor([6]),\n",
              " tensor([6]),\n",
              " tensor([6]),\n",
              " tensor([6]),\n",
              " tensor([6]),\n",
              " tensor([6]),\n",
              " tensor([6]),\n",
              " tensor([6]),\n",
              " tensor([6]),\n",
              " tensor([6]),\n",
              " tensor([6]),\n",
              " tensor([6]),\n",
              " tensor([6]),\n",
              " tensor([6]),\n",
              " tensor([6]),\n",
              " tensor([6]),\n",
              " tensor([6]),\n",
              " tensor([6]),\n",
              " tensor([6]),\n",
              " tensor([6]),\n",
              " tensor([6]),\n",
              " tensor([6]),\n",
              " tensor([6]),\n",
              " tensor([6]),\n",
              " tensor([6]),\n",
              " tensor([6]),\n",
              " tensor([6]),\n",
              " tensor([6]),\n",
              " tensor([6]),\n",
              " tensor([6]),\n",
              " tensor([6]),\n",
              " tensor([6]),\n",
              " tensor([6]),\n",
              " tensor([6]),\n",
              " tensor([6]),\n",
              " tensor([6]),\n",
              " tensor([6]),\n",
              " tensor([6]),\n",
              " tensor([6]),\n",
              " tensor([6]),\n",
              " tensor([6]),\n",
              " tensor([6]),\n",
              " tensor([6]),\n",
              " tensor([6]),\n",
              " tensor([6]),\n",
              " tensor([6]),\n",
              " tensor([6]),\n",
              " tensor([6]),\n",
              " tensor([6]),\n",
              " tensor([6]),\n",
              " tensor([6]),\n",
              " tensor([6]),\n",
              " tensor([6]),\n",
              " tensor([6]),\n",
              " tensor([6]),\n",
              " tensor([6]),\n",
              " tensor([6]),\n",
              " tensor([6]),\n",
              " tensor([6]),\n",
              " tensor([6]),\n",
              " tensor([6]),\n",
              " tensor([6]),\n",
              " tensor([6]),\n",
              " tensor([6]),\n",
              " tensor([6]),\n",
              " tensor([6]),\n",
              " tensor([6]),\n",
              " tensor([6]),\n",
              " tensor([6]),\n",
              " tensor([6]),\n",
              " tensor([6]),\n",
              " tensor([6]),\n",
              " tensor([6]),\n",
              " tensor([6]),\n",
              " tensor([6]),\n",
              " tensor([6]),\n",
              " tensor([6]),\n",
              " tensor([6]),\n",
              " tensor([6]),\n",
              " tensor([6]),\n",
              " tensor([6]),\n",
              " tensor([6]),\n",
              " tensor([6]),\n",
              " tensor([6]),\n",
              " tensor([6]),\n",
              " tensor([6]),\n",
              " tensor([6]),\n",
              " tensor([6]),\n",
              " tensor([6]),\n",
              " tensor([6]),\n",
              " tensor([6]),\n",
              " tensor([6]),\n",
              " tensor([6]),\n",
              " tensor([6]),\n",
              " tensor([6]),\n",
              " tensor([6]),\n",
              " tensor([6]),\n",
              " tensor([6]),\n",
              " tensor([6]),\n",
              " tensor([6]),\n",
              " tensor([6]),\n",
              " tensor([6]),\n",
              " tensor([6]),\n",
              " tensor([6]),\n",
              " tensor([6]),\n",
              " tensor([6]),\n",
              " tensor([6]),\n",
              " tensor([6]),\n",
              " tensor([6]),\n",
              " tensor([6]),\n",
              " tensor([6]),\n",
              " tensor([6]),\n",
              " tensor([6]),\n",
              " tensor([6]),\n",
              " tensor([6]),\n",
              " tensor([6]),\n",
              " tensor([6]),\n",
              " tensor([6]),\n",
              " tensor([6]),\n",
              " tensor([6]),\n",
              " tensor([6]),\n",
              " tensor([6]),\n",
              " tensor([6]),\n",
              " tensor([6]),\n",
              " tensor([6]),\n",
              " tensor([6]),\n",
              " tensor([6]),\n",
              " tensor([6]),\n",
              " tensor([6]),\n",
              " tensor([6]),\n",
              " tensor([6]),\n",
              " tensor([6]),\n",
              " tensor([6]),\n",
              " tensor([6]),\n",
              " tensor([6]),\n",
              " tensor([6]),\n",
              " tensor([6]),\n",
              " tensor([6]),\n",
              " tensor([6]),\n",
              " tensor([6]),\n",
              " tensor([6]),\n",
              " tensor([6]),\n",
              " tensor([6]),\n",
              " tensor([6]),\n",
              " tensor([6]),\n",
              " tensor([6]),\n",
              " tensor([6]),\n",
              " tensor([6]),\n",
              " tensor([6]),\n",
              " tensor([6]),\n",
              " tensor([6]),\n",
              " tensor([6]),\n",
              " tensor([6]),\n",
              " tensor([6]),\n",
              " tensor([6]),\n",
              " tensor([6]),\n",
              " tensor([6]),\n",
              " tensor([6]),\n",
              " tensor([6]),\n",
              " tensor([6]),\n",
              " tensor([6]),\n",
              " tensor([6]),\n",
              " tensor([6]),\n",
              " tensor([6]),\n",
              " tensor([6]),\n",
              " tensor([6]),\n",
              " tensor([6]),\n",
              " tensor([6]),\n",
              " tensor([6]),\n",
              " tensor([6]),\n",
              " tensor([6]),\n",
              " tensor([6]),\n",
              " tensor([6]),\n",
              " tensor([6]),\n",
              " tensor([6]),\n",
              " tensor([6]),\n",
              " tensor([6]),\n",
              " tensor([6]),\n",
              " tensor([6]),\n",
              " tensor([6]),\n",
              " tensor([6]),\n",
              " tensor([6]),\n",
              " tensor([6]),\n",
              " tensor([6]),\n",
              " tensor([6]),\n",
              " tensor([6]),\n",
              " tensor([6]),\n",
              " tensor([6]),\n",
              " tensor([6]),\n",
              " tensor([6]),\n",
              " tensor([6]),\n",
              " tensor([6]),\n",
              " tensor([6]),\n",
              " tensor([6]),\n",
              " tensor([6]),\n",
              " tensor([6]),\n",
              " tensor([6]),\n",
              " tensor([6]),\n",
              " tensor([6]),\n",
              " tensor([6]),\n",
              " tensor([6]),\n",
              " tensor([6]),\n",
              " tensor([6]),\n",
              " tensor([6]),\n",
              " tensor([6]),\n",
              " tensor([6]),\n",
              " tensor([6]),\n",
              " tensor([6]),\n",
              " tensor([6]),\n",
              " tensor([6]),\n",
              " tensor([6]),\n",
              " tensor([6]),\n",
              " tensor([6]),\n",
              " tensor([6]),\n",
              " tensor([6]),\n",
              " tensor([6]),\n",
              " tensor([6]),\n",
              " tensor([6]),\n",
              " tensor([6]),\n",
              " tensor([6]),\n",
              " tensor([6]),\n",
              " tensor([6]),\n",
              " tensor([6]),\n",
              " tensor([6]),\n",
              " tensor([6]),\n",
              " tensor([6]),\n",
              " tensor([6]),\n",
              " tensor([6]),\n",
              " tensor([6]),\n",
              " tensor([6]),\n",
              " tensor([6]),\n",
              " tensor([6]),\n",
              " tensor([6]),\n",
              " tensor([6]),\n",
              " tensor([6]),\n",
              " tensor([6]),\n",
              " tensor([6]),\n",
              " tensor([6]),\n",
              " tensor([6]),\n",
              " tensor([6]),\n",
              " tensor([6]),\n",
              " tensor([6]),\n",
              " tensor([6]),\n",
              " tensor([6]),\n",
              " tensor([6]),\n",
              " tensor([6]),\n",
              " tensor([6]),\n",
              " tensor([6]),\n",
              " tensor([6]),\n",
              " tensor([6]),\n",
              " tensor([6]),\n",
              " tensor([6]),\n",
              " tensor([6]),\n",
              " tensor([6]),\n",
              " tensor([6]),\n",
              " tensor([6]),\n",
              " tensor([6]),\n",
              " tensor([6]),\n",
              " tensor([6]),\n",
              " tensor([6]),\n",
              " tensor([6]),\n",
              " tensor([6]),\n",
              " tensor([6]),\n",
              " tensor([6]),\n",
              " tensor([6]),\n",
              " tensor([6]),\n",
              " tensor([6]),\n",
              " tensor([6]),\n",
              " tensor([6]),\n",
              " tensor([6]),\n",
              " tensor([6]),\n",
              " tensor([6]),\n",
              " tensor([6]),\n",
              " tensor([6]),\n",
              " tensor([6]),\n",
              " tensor([6]),\n",
              " tensor([6]),\n",
              " tensor([6]),\n",
              " tensor([6]),\n",
              " tensor([6]),\n",
              " tensor([6]),\n",
              " tensor([6]),\n",
              " tensor([6]),\n",
              " tensor([6]),\n",
              " tensor([6]),\n",
              " tensor([6]),\n",
              " tensor([6]),\n",
              " tensor([6]),\n",
              " tensor([6]),\n",
              " tensor([6]),\n",
              " tensor([6]),\n",
              " tensor([6]),\n",
              " tensor([6]),\n",
              " tensor([6]),\n",
              " tensor([6]),\n",
              " tensor([6]),\n",
              " tensor([6]),\n",
              " tensor([6]),\n",
              " tensor([6]),\n",
              " tensor([6]),\n",
              " tensor([6]),\n",
              " tensor([6]),\n",
              " tensor([6]),\n",
              " tensor([6]),\n",
              " tensor([6]),\n",
              " tensor([6]),\n",
              " tensor([6]),\n",
              " tensor([6]),\n",
              " tensor([6]),\n",
              " tensor([6]),\n",
              " tensor([6]),\n",
              " tensor([6]),\n",
              " tensor([6]),\n",
              " tensor([6]),\n",
              " tensor([6]),\n",
              " tensor([6]),\n",
              " tensor([6]),\n",
              " tensor([6]),\n",
              " tensor([6]),\n",
              " tensor([6]),\n",
              " tensor([6]),\n",
              " tensor([6]),\n",
              " tensor([6]),\n",
              " tensor([6]),\n",
              " tensor([6]),\n",
              " tensor([6]),\n",
              " tensor([6]),\n",
              " tensor([6]),\n",
              " tensor([6]),\n",
              " tensor([6]),\n",
              " tensor([6]),\n",
              " tensor([6]),\n",
              " tensor([6]),\n",
              " tensor([6]),\n",
              " tensor([6]),\n",
              " tensor([6]),\n",
              " tensor([6]),\n",
              " tensor([6]),\n",
              " tensor([6]),\n",
              " tensor([6]),\n",
              " tensor([6]),\n",
              " tensor([6]),\n",
              " tensor([6]),\n",
              " tensor([6]),\n",
              " tensor([6]),\n",
              " tensor([6]),\n",
              " tensor([6]),\n",
              " tensor([6]),\n",
              " tensor([6]),\n",
              " tensor([6]),\n",
              " tensor([6]),\n",
              " tensor([6]),\n",
              " tensor([6]),\n",
              " tensor([6]),\n",
              " tensor([6]),\n",
              " tensor([6]),\n",
              " tensor([6]),\n",
              " tensor([6]),\n",
              " tensor([6]),\n",
              " tensor([6]),\n",
              " tensor([6]),\n",
              " tensor([6]),\n",
              " tensor([6]),\n",
              " tensor([6]),\n",
              " tensor([6]),\n",
              " tensor([6]),\n",
              " tensor([6]),\n",
              " tensor([6]),\n",
              " tensor([6]),\n",
              " tensor([6]),\n",
              " tensor([6]),\n",
              " tensor([6]),\n",
              " tensor([6]),\n",
              " tensor([6]),\n",
              " tensor([6]),\n",
              " tensor([6]),\n",
              " tensor([6]),\n",
              " tensor([6]),\n",
              " tensor([6]),\n",
              " tensor([6]),\n",
              " tensor([6]),\n",
              " tensor([6]),\n",
              " tensor([6]),\n",
              " tensor([6]),\n",
              " tensor([6]),\n",
              " tensor([6]),\n",
              " tensor([6]),\n",
              " tensor([6]),\n",
              " tensor([6]),\n",
              " tensor([6]),\n",
              " tensor([6]),\n",
              " tensor([6]),\n",
              " tensor([6]),\n",
              " tensor([6]),\n",
              " tensor([6]),\n",
              " tensor([6]),\n",
              " tensor([6]),\n",
              " tensor([6]),\n",
              " tensor([6]),\n",
              " tensor([6]),\n",
              " tensor([6]),\n",
              " tensor([6]),\n",
              " tensor([6]),\n",
              " tensor([6]),\n",
              " tensor([6]),\n",
              " tensor([6]),\n",
              " tensor([6]),\n",
              " tensor([6]),\n",
              " tensor([6]),\n",
              " tensor([6]),\n",
              " tensor([6]),\n",
              " tensor([6]),\n",
              " tensor([6]),\n",
              " tensor([6]),\n",
              " tensor([6]),\n",
              " tensor([6]),\n",
              " tensor([6]),\n",
              " tensor([6]),\n",
              " tensor([6]),\n",
              " tensor([6]),\n",
              " tensor([6]),\n",
              " tensor([6]),\n",
              " tensor([6]),\n",
              " tensor([6]),\n",
              " tensor([6]),\n",
              " tensor([6]),\n",
              " tensor([6]),\n",
              " tensor([6]),\n",
              " tensor([6]),\n",
              " tensor([6]),\n",
              " tensor([6]),\n",
              " tensor([6]),\n",
              " tensor([6]),\n",
              " tensor([6]),\n",
              " tensor([6]),\n",
              " tensor([6]),\n",
              " tensor([6]),\n",
              " tensor([6]),\n",
              " tensor([6]),\n",
              " tensor([6]),\n",
              " tensor([6]),\n",
              " tensor([6]),\n",
              " tensor([6]),\n",
              " tensor([6]),\n",
              " tensor([6]),\n",
              " tensor([6]),\n",
              " tensor([6]),\n",
              " tensor([6]),\n",
              " tensor([6]),\n",
              " tensor([6]),\n",
              " tensor([6]),\n",
              " tensor([6]),\n",
              " tensor([6]),\n",
              " tensor([6]),\n",
              " tensor([6]),\n",
              " tensor([6]),\n",
              " tensor([6]),\n",
              " tensor([6]),\n",
              " tensor([6]),\n",
              " tensor([6]),\n",
              " tensor([6]),\n",
              " tensor([6]),\n",
              " tensor([6]),\n",
              " tensor([6]),\n",
              " tensor([6]),\n",
              " tensor([6]),\n",
              " tensor([6]),\n",
              " tensor([6]),\n",
              " tensor([6]),\n",
              " tensor([6]),\n",
              " tensor([6]),\n",
              " tensor([6]),\n",
              " tensor([6]),\n",
              " tensor([6]),\n",
              " tensor([6]),\n",
              " tensor([6]),\n",
              " tensor([6]),\n",
              " tensor([6]),\n",
              " tensor([6]),\n",
              " tensor([6]),\n",
              " tensor([6]),\n",
              " tensor([6]),\n",
              " tensor([6]),\n",
              " tensor([6]),\n",
              " tensor([6]),\n",
              " tensor([6]),\n",
              " tensor([6]),\n",
              " tensor([6]),\n",
              " tensor([6]),\n",
              " tensor([6]),\n",
              " tensor([6]),\n",
              " tensor([6]),\n",
              " tensor([6]),\n",
              " tensor([6]),\n",
              " tensor([6]),\n",
              " tensor([6]),\n",
              " tensor([6]),\n",
              " tensor([6]),\n",
              " tensor([6]),\n",
              " tensor([6]),\n",
              " tensor([6]),\n",
              " tensor([6]),\n",
              " tensor([6]),\n",
              " tensor([6]),\n",
              " tensor([6]),\n",
              " tensor([6]),\n",
              " tensor([6]),\n",
              " tensor([6]),\n",
              " tensor([6]),\n",
              " tensor([6]),\n",
              " tensor([6]),\n",
              " tensor([6]),\n",
              " tensor([6]),\n",
              " tensor([6]),\n",
              " tensor([6]),\n",
              " tensor([6]),\n",
              " tensor([6]),\n",
              " tensor([6]),\n",
              " tensor([6]),\n",
              " tensor([6]),\n",
              " tensor([6]),\n",
              " tensor([6]),\n",
              " tensor([6]),\n",
              " tensor([6]),\n",
              " tensor([6]),\n",
              " tensor([6]),\n",
              " tensor([6]),\n",
              " tensor([6]),\n",
              " tensor([6]),\n",
              " tensor([6]),\n",
              " tensor([6]),\n",
              " tensor([6]),\n",
              " tensor([6]),\n",
              " tensor([6]),\n",
              " tensor([6]),\n",
              " tensor([6]),\n",
              " tensor([6]),\n",
              " tensor([6]),\n",
              " tensor([6]),\n",
              " tensor([6]),\n",
              " tensor([6]),\n",
              " tensor([6]),\n",
              " tensor([6]),\n",
              " tensor([6]),\n",
              " tensor([6]),\n",
              " tensor([6]),\n",
              " tensor([6]),\n",
              " tensor([6]),\n",
              " tensor([6]),\n",
              " tensor([6]),\n",
              " tensor([6]),\n",
              " tensor([6]),\n",
              " tensor([6]),\n",
              " tensor([6]),\n",
              " tensor([6]),\n",
              " tensor([6]),\n",
              " tensor([6]),\n",
              " tensor([6]),\n",
              " tensor([6]),\n",
              " tensor([6]),\n",
              " tensor([6]),\n",
              " tensor([6]),\n",
              " tensor([6]),\n",
              " tensor([6]),\n",
              " tensor([6]),\n",
              " tensor([6]),\n",
              " tensor([6]),\n",
              " tensor([6]),\n",
              " tensor([6]),\n",
              " tensor([6]),\n",
              " tensor([6]),\n",
              " tensor([6]),\n",
              " tensor([6]),\n",
              " tensor([6]),\n",
              " tensor([6]),\n",
              " tensor([6]),\n",
              " tensor([6]),\n",
              " tensor([6]),\n",
              " tensor([6]),\n",
              " tensor([6]),\n",
              " tensor([6]),\n",
              " tensor([6]),\n",
              " tensor([6]),\n",
              " tensor([6]),\n",
              " tensor([6]),\n",
              " tensor([6]),\n",
              " tensor([6]),\n",
              " tensor([6]),\n",
              " tensor([6]),\n",
              " tensor([6]),\n",
              " tensor([6]),\n",
              " tensor([6]),\n",
              " tensor([6]),\n",
              " tensor([6]),\n",
              " tensor([6]),\n",
              " tensor([6]),\n",
              " tensor([6]),\n",
              " tensor([6]),\n",
              " tensor([6]),\n",
              " tensor([6]),\n",
              " tensor([6]),\n",
              " tensor([6]),\n",
              " tensor([6]),\n",
              " tensor([6]),\n",
              " tensor([6]),\n",
              " tensor([6]),\n",
              " tensor([6]),\n",
              " tensor([6]),\n",
              " tensor([6]),\n",
              " tensor([6]),\n",
              " tensor([6]),\n",
              " tensor([6]),\n",
              " tensor([6]),\n",
              " tensor([6]),\n",
              " tensor([6]),\n",
              " tensor([6]),\n",
              " tensor([6]),\n",
              " tensor([6]),\n",
              " tensor([6]),\n",
              " tensor([6]),\n",
              " tensor([6]),\n",
              " tensor([6]),\n",
              " tensor([6]),\n",
              " tensor([6]),\n",
              " tensor([6]),\n",
              " tensor([6]),\n",
              " tensor([6]),\n",
              " tensor([6]),\n",
              " tensor([6]),\n",
              " tensor([6]),\n",
              " tensor([6]),\n",
              " tensor([6]),\n",
              " tensor([6]),\n",
              " tensor([6]),\n",
              " tensor([6]),\n",
              " tensor([6]),\n",
              " tensor([6]),\n",
              " tensor([6]),\n",
              " tensor([6]),\n",
              " tensor([6]),\n",
              " tensor([6]),\n",
              " tensor([6]),\n",
              " tensor([6]),\n",
              " tensor([6]),\n",
              " tensor([6]),\n",
              " tensor([6]),\n",
              " tensor([6]),\n",
              " tensor([6]),\n",
              " tensor([6]),\n",
              " tensor([6]),\n",
              " tensor([6]),\n",
              " tensor([6]),\n",
              " tensor([6]),\n",
              " tensor([6]),\n",
              " tensor([6]),\n",
              " tensor([6]),\n",
              " tensor([6]),\n",
              " tensor([6]),\n",
              " tensor([6]),\n",
              " tensor([6]),\n",
              " tensor([6]),\n",
              " tensor([6]),\n",
              " tensor([6]),\n",
              " tensor([6]),\n",
              " tensor([6]),\n",
              " tensor([6]),\n",
              " tensor([6]),\n",
              " tensor([6]),\n",
              " tensor([6]),\n",
              " tensor([6]),\n",
              " tensor([6]),\n",
              " tensor([6]),\n",
              " tensor([6]),\n",
              " tensor([6]),\n",
              " tensor([6]),\n",
              " tensor([6]),\n",
              " tensor([6]),\n",
              " tensor([6]),\n",
              " tensor([6]),\n",
              " tensor([6]),\n",
              " tensor([6]),\n",
              " tensor([6]),\n",
              " tensor([6]),\n",
              " tensor([6]),\n",
              " tensor([6]),\n",
              " tensor([6]),\n",
              " tensor([6]),\n",
              " tensor([6]),\n",
              " tensor([6]),\n",
              " tensor([6]),\n",
              " tensor([6]),\n",
              " tensor([6]),\n",
              " tensor([6]),\n",
              " tensor([6]),\n",
              " tensor([6]),\n",
              " tensor([6]),\n",
              " tensor([6]),\n",
              " tensor([6]),\n",
              " tensor([6]),\n",
              " tensor([6]),\n",
              " tensor([6]),\n",
              " tensor([6]),\n",
              " tensor([6]),\n",
              " tensor([6]),\n",
              " tensor([6]),\n",
              " tensor([6]),\n",
              " tensor([6]),\n",
              " tensor([6]),\n",
              " tensor([6]),\n",
              " tensor([6]),\n",
              " tensor([6]),\n",
              " tensor([6]),\n",
              " tensor([6]),\n",
              " tensor([6]),\n",
              " tensor([6]),\n",
              " tensor([6]),\n",
              " tensor([6]),\n",
              " tensor([6]),\n",
              " tensor([6]),\n",
              " tensor([6]),\n",
              " tensor([6]),\n",
              " tensor([6]),\n",
              " tensor([6]),\n",
              " tensor([6]),\n",
              " tensor([6]),\n",
              " tensor([6]),\n",
              " tensor([6]),\n",
              " tensor([6]),\n",
              " tensor([6]),\n",
              " tensor([6]),\n",
              " tensor([6]),\n",
              " tensor([6]),\n",
              " tensor([6]),\n",
              " tensor([6]),\n",
              " tensor([6]),\n",
              " tensor([6]),\n",
              " tensor([6]),\n",
              " tensor([6]),\n",
              " tensor([6]),\n",
              " tensor([6]),\n",
              " tensor([6]),\n",
              " tensor([6]),\n",
              " ...]"
            ]
          },
          "metadata": {},
          "execution_count": 78
        }
      ]
    },
    {
      "cell_type": "code",
      "source": [
        "X_train = torch.stack(X , dim =0)"
      ],
      "metadata": {
        "id": "_jMvWEYpAgzi"
      },
      "execution_count": 79,
      "outputs": []
    },
    {
      "cell_type": "code",
      "source": [
        "X_train[0].shape"
      ],
      "metadata": {
        "colab": {
          "base_uri": "https://localhost:8080/"
        },
        "id": "Jgk80ERsDiCs",
        "outputId": "53de480e-6090-4d72-9c8e-754fc46d516c"
      },
      "execution_count": 80,
      "outputs": [
        {
          "output_type": "execute_result",
          "data": {
            "text/plain": [
              "torch.Size([42])"
            ]
          },
          "metadata": {},
          "execution_count": 80
        }
      ]
    },
    {
      "cell_type": "code",
      "source": [
        "X_train.shape"
      ],
      "metadata": {
        "colab": {
          "base_uri": "https://localhost:8080/"
        },
        "id": "V9S7iaXXDxSh",
        "outputId": "b1b34c53-8aab-4da6-c0bd-1331ad057dae"
      },
      "execution_count": 81,
      "outputs": [
        {
          "output_type": "execute_result",
          "data": {
            "text/plain": [
              "torch.Size([19308, 42])"
            ]
          },
          "metadata": {},
          "execution_count": 81
        }
      ]
    },
    {
      "cell_type": "code",
      "source": [
        "y_train = torch.stack(y , dim = 0)"
      ],
      "metadata": {
        "id": "v5OOSbThDk3n"
      },
      "execution_count": 82,
      "outputs": []
    },
    {
      "cell_type": "code",
      "source": [
        "y_train\n"
      ],
      "metadata": {
        "colab": {
          "base_uri": "https://localhost:8080/"
        },
        "id": "Wc_uTyRsE6_E",
        "outputId": "c6a90ccd-fd85-4875-d059-bf5c6d1a87dd"
      },
      "execution_count": 83,
      "outputs": [
        {
          "output_type": "execute_result",
          "data": {
            "text/plain": [
              "tensor([[ 6],\n",
              "        [ 6],\n",
              "        [ 6],\n",
              "        ...,\n",
              "        [17],\n",
              "        [17],\n",
              "        [17]])"
            ]
          },
          "metadata": {},
          "execution_count": 83
        }
      ]
    },
    {
      "cell_type": "code",
      "source": [
        "y_train.shape"
      ],
      "metadata": {
        "colab": {
          "base_uri": "https://localhost:8080/"
        },
        "id": "6e9fv5TDDtOT",
        "outputId": "d3d841c3-fc74-41a1-bf1d-f526e860f82c"
      },
      "execution_count": 84,
      "outputs": [
        {
          "output_type": "execute_result",
          "data": {
            "text/plain": [
              "torch.Size([19308, 1])"
            ]
          },
          "metadata": {},
          "execution_count": 84
        }
      ]
    },
    {
      "cell_type": "code",
      "source": [
        "y_train = y_train.t().squeeze(0)"
      ],
      "metadata": {
        "id": "4YcESOlWD1lw"
      },
      "execution_count": 85,
      "outputs": []
    },
    {
      "cell_type": "code",
      "source": [
        "y_train.shape"
      ],
      "metadata": {
        "colab": {
          "base_uri": "https://localhost:8080/"
        },
        "id": "O8QSq9DTE1lW",
        "outputId": "6f441fdc-9769-40ef-bfbc-42e7d654bdc4"
      },
      "execution_count": 86,
      "outputs": [
        {
          "output_type": "execute_result",
          "data": {
            "text/plain": [
              "torch.Size([19308])"
            ]
          },
          "metadata": {},
          "execution_count": 86
        }
      ]
    },
    {
      "cell_type": "code",
      "source": [
        "dataset_tensor = TensorDataset(X_train, y_train)"
      ],
      "metadata": {
        "id": "X7Bu8_awIPNJ"
      },
      "execution_count": 87,
      "outputs": []
    },
    {
      "cell_type": "code",
      "source": [
        "train_dataset = dataset_tensor[3000:]\n",
        "test_dataset = dataset_tensor[:3000]"
      ],
      "metadata": {
        "id": "ja1l3dLUMuVc"
      },
      "execution_count": 88,
      "outputs": []
    },
    {
      "cell_type": "code",
      "source": [
        "# for inputs, labels in zip(test_dataset[0], test_dataset[1]):\n",
        "#     print(\"Labels:\", labels)\n",
        "#     print(\"Inputs:\", inputs)\n"
      ],
      "metadata": {
        "id": "DS1yynBVqRA2"
      },
      "execution_count": 89,
      "outputs": []
    },
    {
      "cell_type": "code",
      "source": [
        "train_dataset"
      ],
      "metadata": {
        "colab": {
          "base_uri": "https://localhost:8080/"
        },
        "id": "WCSQ9DlfYpMh",
        "outputId": "f7a92eb7-ea69-4fdd-d8d6-193bd0d7d1a0"
      },
      "execution_count": 90,
      "outputs": [
        {
          "output_type": "execute_result",
          "data": {
            "text/plain": [
              "(tensor([[0.6296, 0.8513, 0.7212,  ..., 0.5058, 0.7231, 0.5339],\n",
              "         [0.6113, 0.8805, 0.6972,  ..., 0.4966, 0.6944, 0.5255],\n",
              "         [0.5202, 0.7911, 0.6134,  ..., 0.4256, 0.5958, 0.3849],\n",
              "         ...,\n",
              "         [0.5076, 0.9427, 0.5428,  ..., 0.8194, 0.2073, 0.7798],\n",
              "         [0.4183, 0.6970, 0.3536,  ..., 0.5838, 0.2143, 0.5523],\n",
              "         [0.5888, 0.3499, 0.5367,  ..., 0.2814, 0.3733, 0.2576]]),\n",
              " tensor([ 7,  7,  7,  ..., 17, 17, 17]))"
            ]
          },
          "metadata": {},
          "execution_count": 90
        }
      ]
    },
    {
      "cell_type": "code",
      "source": [
        "train_loader = DataLoader(dataset_tensor, batch_size=64, shuffle=True)"
      ],
      "metadata": {
        "id": "yjvOgj41KnKC"
      },
      "execution_count": 91,
      "outputs": []
    },
    {
      "cell_type": "code",
      "source": [
        "test_loader = DataLoader(test_dataset, batch_size=64, shuffle=False)"
      ],
      "metadata": {
        "id": "ioJDuBzaYg6i"
      },
      "execution_count": 92,
      "outputs": []
    },
    {
      "cell_type": "code",
      "source": [
        "# print(len(test_loader))"
      ],
      "metadata": {
        "id": "1hPTBte1ksFA"
      },
      "execution_count": 93,
      "outputs": []
    },
    {
      "cell_type": "code",
      "source": [
        "import torch\n",
        "import torch.nn as nn\n",
        "\n",
        "class MLP(nn.Module):\n",
        "    def __init__(self, input_size, hidden_size, num_classes):\n",
        "        super(MLP, self).__init__()\n",
        "        self.fc1 = nn.Linear(input_size, hidden_size)\n",
        "        self.relu = nn.ReLU()\n",
        "        self.fc2 = nn.Linear(hidden_size, num_classes)\n",
        "\n",
        "    def forward(self, x):\n",
        "        out = self.fc1(x)\n",
        "        out = self.relu(out)\n",
        "        out = self.fc2(out)\n",
        "        return out\n",
        "\n",
        "\n"
      ],
      "metadata": {
        "id": "xoSaJHZKUqTp"
      },
      "execution_count": 94,
      "outputs": []
    },
    {
      "cell_type": "code",
      "source": [
        "input_size = 42  # Assuming each input is of size 40\n",
        "hidden_size = 64  # You can adjust this according to your data and requirements\n",
        "num_classes = 28  # Number of output classes\n",
        "model = MLP(input_size, hidden_size, num_classes)\n",
        "num_epochs = 200"
      ],
      "metadata": {
        "id": "FcrTPEe3WeCT"
      },
      "execution_count": 95,
      "outputs": []
    },
    {
      "cell_type": "code",
      "source": [
        "# Define loss function and optimizer\n",
        "criterion = nn.CrossEntropyLoss()\n",
        "optimizer = torch.optim.Adam(model.parameters(), lr=0.001)\n"
      ],
      "metadata": {
        "id": "Pm0TCY5FWhWn"
      },
      "execution_count": 96,
      "outputs": []
    },
    {
      "cell_type": "code",
      "source": [
        "\n",
        "def train(model, train_loader, criterion, optimizer):\n",
        "    model.train()  # Set the model to training mode\n",
        "    running_loss = 0.0\n",
        "    correct = 0\n",
        "    total = 0\n",
        "    for inputs, labels in train_loader:\n",
        "        optimizer.zero_grad()\n",
        "        outputs = model(inputs)\n",
        "        loss = criterion(outputs, labels)\n",
        "        loss.backward()\n",
        "        optimizer.step()\n",
        "\n",
        "        # Compute training accuracy\n",
        "        _, predicted = torch.max(outputs.data, 1)\n",
        "        # print(labels)\n",
        "        # print(predicted)\n",
        "        total += labels.size(0)\n",
        "        correct += (predicted == labels).sum().item()\n",
        "\n",
        "        running_loss += loss.item()\n",
        "    train_accuracy = correct / total\n",
        "\n",
        "    return running_loss / len(train_loader), train_accuracy\n",
        "\n",
        "\n"
      ],
      "metadata": {
        "id": "suCBDwSGXE8G"
      },
      "execution_count": 97,
      "outputs": []
    },
    {
      "cell_type": "code",
      "source": [
        "# Training the model\n",
        "for epoch in range(num_epochs):\n",
        "    train_loss, train_accuracy = train(model, train_loader, criterion, optimizer)\n",
        "    print(f'Epoch [{epoch+1}/{num_epochs}], Training Loss: {train_loss:.4f}, Training Accuracy: {train_accuracy:.4f}')"
      ],
      "metadata": {
        "colab": {
          "base_uri": "https://localhost:8080/"
        },
        "id": "MlLaDXsUXKBp",
        "outputId": "c3ea1b8a-4151-4fbc-de40-16afb538a207"
      },
      "execution_count": 98,
      "outputs": [
        {
          "output_type": "stream",
          "name": "stdout",
          "text": [
            "Epoch [1/200], Training Loss: 3.0188, Training Accuracy: 0.1456\n",
            "Epoch [2/200], Training Loss: 2.6080, Training Accuracy: 0.2718\n",
            "Epoch [3/200], Training Loss: 2.1467, Training Accuracy: 0.4027\n",
            "Epoch [4/200], Training Loss: 1.8090, Training Accuracy: 0.4796\n",
            "Epoch [5/200], Training Loss: 1.5636, Training Accuracy: 0.5563\n",
            "Epoch [6/200], Training Loss: 1.3806, Training Accuracy: 0.6268\n",
            "Epoch [7/200], Training Loss: 1.2428, Training Accuracy: 0.6707\n",
            "Epoch [8/200], Training Loss: 1.1367, Training Accuracy: 0.7037\n",
            "Epoch [9/200], Training Loss: 1.0556, Training Accuracy: 0.7238\n",
            "Epoch [10/200], Training Loss: 0.9909, Training Accuracy: 0.7438\n",
            "Epoch [11/200], Training Loss: 0.9353, Training Accuracy: 0.7584\n",
            "Epoch [12/200], Training Loss: 0.8908, Training Accuracy: 0.7679\n",
            "Epoch [13/200], Training Loss: 0.8506, Training Accuracy: 0.7816\n",
            "Epoch [14/200], Training Loss: 0.8181, Training Accuracy: 0.7878\n",
            "Epoch [15/200], Training Loss: 0.7879, Training Accuracy: 0.7968\n",
            "Epoch [16/200], Training Loss: 0.7619, Training Accuracy: 0.8029\n",
            "Epoch [17/200], Training Loss: 0.7392, Training Accuracy: 0.8101\n",
            "Epoch [18/200], Training Loss: 0.7179, Training Accuracy: 0.8169\n",
            "Epoch [19/200], Training Loss: 0.6987, Training Accuracy: 0.8233\n",
            "Epoch [20/200], Training Loss: 0.6835, Training Accuracy: 0.8268\n",
            "Epoch [21/200], Training Loss: 0.6679, Training Accuracy: 0.8325\n",
            "Epoch [22/200], Training Loss: 0.6533, Training Accuracy: 0.8339\n",
            "Epoch [23/200], Training Loss: 0.6397, Training Accuracy: 0.8385\n",
            "Epoch [24/200], Training Loss: 0.6279, Training Accuracy: 0.8392\n",
            "Epoch [25/200], Training Loss: 0.6169, Training Accuracy: 0.8457\n",
            "Epoch [26/200], Training Loss: 0.6064, Training Accuracy: 0.8477\n",
            "Epoch [27/200], Training Loss: 0.5973, Training Accuracy: 0.8486\n",
            "Epoch [28/200], Training Loss: 0.5887, Training Accuracy: 0.8502\n",
            "Epoch [29/200], Training Loss: 0.5794, Training Accuracy: 0.8530\n",
            "Epoch [30/200], Training Loss: 0.5722, Training Accuracy: 0.8537\n",
            "Epoch [31/200], Training Loss: 0.5639, Training Accuracy: 0.8546\n",
            "Epoch [32/200], Training Loss: 0.5584, Training Accuracy: 0.8567\n",
            "Epoch [33/200], Training Loss: 0.5507, Training Accuracy: 0.8606\n",
            "Epoch [34/200], Training Loss: 0.5462, Training Accuracy: 0.8601\n",
            "Epoch [35/200], Training Loss: 0.5381, Training Accuracy: 0.8625\n",
            "Epoch [36/200], Training Loss: 0.5315, Training Accuracy: 0.8659\n",
            "Epoch [37/200], Training Loss: 0.5281, Training Accuracy: 0.8658\n",
            "Epoch [38/200], Training Loss: 0.5219, Training Accuracy: 0.8662\n",
            "Epoch [39/200], Training Loss: 0.5171, Training Accuracy: 0.8684\n",
            "Epoch [40/200], Training Loss: 0.5124, Training Accuracy: 0.8686\n",
            "Epoch [41/200], Training Loss: 0.5099, Training Accuracy: 0.8688\n",
            "Epoch [42/200], Training Loss: 0.5037, Training Accuracy: 0.8708\n",
            "Epoch [43/200], Training Loss: 0.5008, Training Accuracy: 0.8703\n",
            "Epoch [44/200], Training Loss: 0.4956, Training Accuracy: 0.8718\n",
            "Epoch [45/200], Training Loss: 0.4919, Training Accuracy: 0.8746\n",
            "Epoch [46/200], Training Loss: 0.4897, Training Accuracy: 0.8719\n",
            "Epoch [47/200], Training Loss: 0.4851, Training Accuracy: 0.8763\n",
            "Epoch [48/200], Training Loss: 0.4815, Training Accuracy: 0.8754\n",
            "Epoch [49/200], Training Loss: 0.4776, Training Accuracy: 0.8778\n",
            "Epoch [50/200], Training Loss: 0.4748, Training Accuracy: 0.8769\n",
            "Epoch [51/200], Training Loss: 0.4725, Training Accuracy: 0.8782\n",
            "Epoch [52/200], Training Loss: 0.4691, Training Accuracy: 0.8783\n",
            "Epoch [53/200], Training Loss: 0.4655, Training Accuracy: 0.8806\n",
            "Epoch [54/200], Training Loss: 0.4633, Training Accuracy: 0.8787\n",
            "Epoch [55/200], Training Loss: 0.4603, Training Accuracy: 0.8821\n",
            "Epoch [56/200], Training Loss: 0.4559, Training Accuracy: 0.8820\n",
            "Epoch [57/200], Training Loss: 0.4550, Training Accuracy: 0.8822\n",
            "Epoch [58/200], Training Loss: 0.4519, Training Accuracy: 0.8832\n",
            "Epoch [59/200], Training Loss: 0.4485, Training Accuracy: 0.8845\n",
            "Epoch [60/200], Training Loss: 0.4467, Training Accuracy: 0.8821\n",
            "Epoch [61/200], Training Loss: 0.4439, Training Accuracy: 0.8866\n",
            "Epoch [62/200], Training Loss: 0.4411, Training Accuracy: 0.8849\n",
            "Epoch [63/200], Training Loss: 0.4400, Training Accuracy: 0.8865\n",
            "Epoch [64/200], Training Loss: 0.4381, Training Accuracy: 0.8867\n",
            "Epoch [65/200], Training Loss: 0.4349, Training Accuracy: 0.8862\n",
            "Epoch [66/200], Training Loss: 0.4331, Training Accuracy: 0.8876\n",
            "Epoch [67/200], Training Loss: 0.4313, Training Accuracy: 0.8870\n",
            "Epoch [68/200], Training Loss: 0.4289, Training Accuracy: 0.8897\n",
            "Epoch [69/200], Training Loss: 0.4280, Training Accuracy: 0.8888\n",
            "Epoch [70/200], Training Loss: 0.4253, Training Accuracy: 0.8907\n",
            "Epoch [71/200], Training Loss: 0.4238, Training Accuracy: 0.8893\n",
            "Epoch [72/200], Training Loss: 0.4214, Training Accuracy: 0.8919\n",
            "Epoch [73/200], Training Loss: 0.4183, Training Accuracy: 0.8914\n",
            "Epoch [74/200], Training Loss: 0.4169, Training Accuracy: 0.8917\n",
            "Epoch [75/200], Training Loss: 0.4164, Training Accuracy: 0.8925\n",
            "Epoch [76/200], Training Loss: 0.4140, Training Accuracy: 0.8915\n",
            "Epoch [77/200], Training Loss: 0.4125, Training Accuracy: 0.8937\n",
            "Epoch [78/200], Training Loss: 0.4098, Training Accuracy: 0.8951\n",
            "Epoch [79/200], Training Loss: 0.4080, Training Accuracy: 0.8950\n",
            "Epoch [80/200], Training Loss: 0.4070, Training Accuracy: 0.8959\n",
            "Epoch [81/200], Training Loss: 0.4067, Training Accuracy: 0.8952\n",
            "Epoch [82/200], Training Loss: 0.4039, Training Accuracy: 0.8956\n",
            "Epoch [83/200], Training Loss: 0.4064, Training Accuracy: 0.8946\n",
            "Epoch [84/200], Training Loss: 0.4002, Training Accuracy: 0.8973\n",
            "Epoch [85/200], Training Loss: 0.3990, Training Accuracy: 0.8961\n",
            "Epoch [86/200], Training Loss: 0.3977, Training Accuracy: 0.8975\n",
            "Epoch [87/200], Training Loss: 0.3962, Training Accuracy: 0.8978\n",
            "Epoch [88/200], Training Loss: 0.3952, Training Accuracy: 0.8973\n",
            "Epoch [89/200], Training Loss: 0.3934, Training Accuracy: 0.8981\n",
            "Epoch [90/200], Training Loss: 0.3915, Training Accuracy: 0.8998\n",
            "Epoch [91/200], Training Loss: 0.3893, Training Accuracy: 0.8988\n",
            "Epoch [92/200], Training Loss: 0.3894, Training Accuracy: 0.8992\n",
            "Epoch [93/200], Training Loss: 0.3870, Training Accuracy: 0.9013\n",
            "Epoch [94/200], Training Loss: 0.3860, Training Accuracy: 0.9001\n",
            "Epoch [95/200], Training Loss: 0.3846, Training Accuracy: 0.9015\n",
            "Epoch [96/200], Training Loss: 0.3830, Training Accuracy: 0.9012\n",
            "Epoch [97/200], Training Loss: 0.3813, Training Accuracy: 0.9032\n",
            "Epoch [98/200], Training Loss: 0.3796, Training Accuracy: 0.9033\n",
            "Epoch [99/200], Training Loss: 0.3792, Training Accuracy: 0.9028\n",
            "Epoch [100/200], Training Loss: 0.3782, Training Accuracy: 0.9037\n",
            "Epoch [101/200], Training Loss: 0.3763, Training Accuracy: 0.9039\n",
            "Epoch [102/200], Training Loss: 0.3733, Training Accuracy: 0.9039\n",
            "Epoch [103/200], Training Loss: 0.3754, Training Accuracy: 0.9029\n",
            "Epoch [104/200], Training Loss: 0.3715, Training Accuracy: 0.9043\n",
            "Epoch [105/200], Training Loss: 0.3721, Training Accuracy: 0.9040\n",
            "Epoch [106/200], Training Loss: 0.3704, Training Accuracy: 0.9053\n",
            "Epoch [107/200], Training Loss: 0.3688, Training Accuracy: 0.9054\n",
            "Epoch [108/200], Training Loss: 0.3656, Training Accuracy: 0.9069\n",
            "Epoch [109/200], Training Loss: 0.3653, Training Accuracy: 0.9068\n",
            "Epoch [110/200], Training Loss: 0.3631, Training Accuracy: 0.9083\n",
            "Epoch [111/200], Training Loss: 0.3637, Training Accuracy: 0.9083\n",
            "Epoch [112/200], Training Loss: 0.3617, Training Accuracy: 0.9088\n",
            "Epoch [113/200], Training Loss: 0.3607, Training Accuracy: 0.9064\n",
            "Epoch [114/200], Training Loss: 0.3595, Training Accuracy: 0.9103\n",
            "Epoch [115/200], Training Loss: 0.3578, Training Accuracy: 0.9092\n",
            "Epoch [116/200], Training Loss: 0.3571, Training Accuracy: 0.9108\n",
            "Epoch [117/200], Training Loss: 0.3579, Training Accuracy: 0.9091\n",
            "Epoch [118/200], Training Loss: 0.3545, Training Accuracy: 0.9110\n",
            "Epoch [119/200], Training Loss: 0.3548, Training Accuracy: 0.9110\n",
            "Epoch [120/200], Training Loss: 0.3533, Training Accuracy: 0.9106\n",
            "Epoch [121/200], Training Loss: 0.3520, Training Accuracy: 0.9110\n",
            "Epoch [122/200], Training Loss: 0.3508, Training Accuracy: 0.9114\n",
            "Epoch [123/200], Training Loss: 0.3495, Training Accuracy: 0.9129\n",
            "Epoch [124/200], Training Loss: 0.3475, Training Accuracy: 0.9135\n",
            "Epoch [125/200], Training Loss: 0.3464, Training Accuracy: 0.9128\n",
            "Epoch [126/200], Training Loss: 0.3455, Training Accuracy: 0.9129\n",
            "Epoch [127/200], Training Loss: 0.3448, Training Accuracy: 0.9137\n",
            "Epoch [128/200], Training Loss: 0.3446, Training Accuracy: 0.9135\n",
            "Epoch [129/200], Training Loss: 0.3431, Training Accuracy: 0.9137\n",
            "Epoch [130/200], Training Loss: 0.3421, Training Accuracy: 0.9149\n",
            "Epoch [131/200], Training Loss: 0.3399, Training Accuracy: 0.9158\n",
            "Epoch [132/200], Training Loss: 0.3409, Training Accuracy: 0.9136\n",
            "Epoch [133/200], Training Loss: 0.3390, Training Accuracy: 0.9158\n",
            "Epoch [134/200], Training Loss: 0.3383, Training Accuracy: 0.9160\n",
            "Epoch [135/200], Training Loss: 0.3375, Training Accuracy: 0.9166\n",
            "Epoch [136/200], Training Loss: 0.3355, Training Accuracy: 0.9156\n",
            "Epoch [137/200], Training Loss: 0.3356, Training Accuracy: 0.9155\n",
            "Epoch [138/200], Training Loss: 0.3346, Training Accuracy: 0.9161\n",
            "Epoch [139/200], Training Loss: 0.3355, Training Accuracy: 0.9166\n",
            "Epoch [140/200], Training Loss: 0.3329, Training Accuracy: 0.9166\n",
            "Epoch [141/200], Training Loss: 0.3316, Training Accuracy: 0.9181\n",
            "Epoch [142/200], Training Loss: 0.3306, Training Accuracy: 0.9149\n",
            "Epoch [143/200], Training Loss: 0.3293, Training Accuracy: 0.9178\n",
            "Epoch [144/200], Training Loss: 0.3288, Training Accuracy: 0.9183\n",
            "Epoch [145/200], Training Loss: 0.3277, Training Accuracy: 0.9171\n",
            "Epoch [146/200], Training Loss: 0.3280, Training Accuracy: 0.9183\n",
            "Epoch [147/200], Training Loss: 0.3266, Training Accuracy: 0.9172\n",
            "Epoch [148/200], Training Loss: 0.3250, Training Accuracy: 0.9192\n",
            "Epoch [149/200], Training Loss: 0.3247, Training Accuracy: 0.9187\n",
            "Epoch [150/200], Training Loss: 0.3234, Training Accuracy: 0.9184\n",
            "Epoch [151/200], Training Loss: 0.3231, Training Accuracy: 0.9185\n",
            "Epoch [152/200], Training Loss: 0.3240, Training Accuracy: 0.9174\n",
            "Epoch [153/200], Training Loss: 0.3218, Training Accuracy: 0.9197\n",
            "Epoch [154/200], Training Loss: 0.3184, Training Accuracy: 0.9200\n",
            "Epoch [155/200], Training Loss: 0.3177, Training Accuracy: 0.9220\n",
            "Epoch [156/200], Training Loss: 0.3182, Training Accuracy: 0.9196\n",
            "Epoch [157/200], Training Loss: 0.3179, Training Accuracy: 0.9190\n",
            "Epoch [158/200], Training Loss: 0.3177, Training Accuracy: 0.9189\n",
            "Epoch [159/200], Training Loss: 0.3159, Training Accuracy: 0.9203\n",
            "Epoch [160/200], Training Loss: 0.3146, Training Accuracy: 0.9203\n",
            "Epoch [161/200], Training Loss: 0.3146, Training Accuracy: 0.9212\n",
            "Epoch [162/200], Training Loss: 0.3150, Training Accuracy: 0.9206\n",
            "Epoch [163/200], Training Loss: 0.3135, Training Accuracy: 0.9208\n",
            "Epoch [164/200], Training Loss: 0.3122, Training Accuracy: 0.9199\n",
            "Epoch [165/200], Training Loss: 0.3113, Training Accuracy: 0.9231\n",
            "Epoch [166/200], Training Loss: 0.3110, Training Accuracy: 0.9216\n",
            "Epoch [167/200], Training Loss: 0.3105, Training Accuracy: 0.9213\n",
            "Epoch [168/200], Training Loss: 0.3076, Training Accuracy: 0.9243\n",
            "Epoch [169/200], Training Loss: 0.3092, Training Accuracy: 0.9223\n",
            "Epoch [170/200], Training Loss: 0.3086, Training Accuracy: 0.9232\n",
            "Epoch [171/200], Training Loss: 0.3078, Training Accuracy: 0.9223\n",
            "Epoch [172/200], Training Loss: 0.3065, Training Accuracy: 0.9227\n",
            "Epoch [173/200], Training Loss: 0.3064, Training Accuracy: 0.9235\n",
            "Epoch [174/200], Training Loss: 0.3054, Training Accuracy: 0.9232\n",
            "Epoch [175/200], Training Loss: 0.3048, Training Accuracy: 0.9238\n",
            "Epoch [176/200], Training Loss: 0.3035, Training Accuracy: 0.9229\n",
            "Epoch [177/200], Training Loss: 0.3023, Training Accuracy: 0.9257\n",
            "Epoch [178/200], Training Loss: 0.3039, Training Accuracy: 0.9223\n",
            "Epoch [179/200], Training Loss: 0.3006, Training Accuracy: 0.9242\n",
            "Epoch [180/200], Training Loss: 0.3001, Training Accuracy: 0.9244\n",
            "Epoch [181/200], Training Loss: 0.3015, Training Accuracy: 0.9238\n",
            "Epoch [182/200], Training Loss: 0.3012, Training Accuracy: 0.9230\n",
            "Epoch [183/200], Training Loss: 0.2987, Training Accuracy: 0.9252\n",
            "Epoch [184/200], Training Loss: 0.2995, Training Accuracy: 0.9248\n",
            "Epoch [185/200], Training Loss: 0.2972, Training Accuracy: 0.9245\n",
            "Epoch [186/200], Training Loss: 0.2967, Training Accuracy: 0.9247\n",
            "Epoch [187/200], Training Loss: 0.2976, Training Accuracy: 0.9248\n",
            "Epoch [188/200], Training Loss: 0.2953, Training Accuracy: 0.9258\n",
            "Epoch [189/200], Training Loss: 0.2954, Training Accuracy: 0.9236\n",
            "Epoch [190/200], Training Loss: 0.2936, Training Accuracy: 0.9265\n",
            "Epoch [191/200], Training Loss: 0.2930, Training Accuracy: 0.9274\n",
            "Epoch [192/200], Training Loss: 0.2916, Training Accuracy: 0.9267\n",
            "Epoch [193/200], Training Loss: 0.2929, Training Accuracy: 0.9252\n",
            "Epoch [194/200], Training Loss: 0.2916, Training Accuracy: 0.9261\n",
            "Epoch [195/200], Training Loss: 0.2920, Training Accuracy: 0.9260\n",
            "Epoch [196/200], Training Loss: 0.2889, Training Accuracy: 0.9262\n",
            "Epoch [197/200], Training Loss: 0.2891, Training Accuracy: 0.9272\n",
            "Epoch [198/200], Training Loss: 0.2885, Training Accuracy: 0.9276\n",
            "Epoch [199/200], Training Loss: 0.2893, Training Accuracy: 0.9269\n",
            "Epoch [200/200], Training Loss: 0.2877, Training Accuracy: 0.9266\n"
          ]
        }
      ]
    },
    {
      "cell_type": "code",
      "source": [
        "def test(model, test_loader, criterion, device):\n",
        "    model.eval()  # Set the model to evaluation mode\n",
        "    correct = 0\n",
        "    test_loss = 0.0\n",
        "\n",
        "    with torch.no_grad():\n",
        "        for inputs, labels in zip(test_loader[0], test_loader[1]):\n",
        "\n",
        "            # inputs, labels = inputs.to(device), labels.to(device)\n",
        "            labels1 = labels.squeeze(0)\n",
        "            outputs = model(inputs)\n",
        "            loss = criterion(outputs, labels1)\n",
        "\n",
        "            # Compute test loss\n",
        "            test_loss += loss.item()\n",
        "            # Compute test accuracy\n",
        "            predicted = outputs.argmax()\n",
        "            # print(labels1)\n",
        "            correct += (predicted == labels1).sum().item()\n",
        "\n",
        "\n",
        "    test_loss /= len(test_loader[1])\n",
        "    test_accuracy = correct / len(test_dataset[1])\n",
        "\n",
        "    return test_loss, test_accuracy\n"
      ],
      "metadata": {
        "id": "jauwayu5t3K5"
      },
      "execution_count": 99,
      "outputs": []
    },
    {
      "cell_type": "code",
      "source": [
        "len(test_dataset[0])"
      ],
      "metadata": {
        "colab": {
          "base_uri": "https://localhost:8080/"
        },
        "id": "P8G3GjLGWyuB",
        "outputId": "24ed1c2a-fb64-4b13-bf21-d260738c0917"
      },
      "execution_count": 100,
      "outputs": [
        {
          "output_type": "execute_result",
          "data": {
            "text/plain": [
              "3000"
            ]
          },
          "metadata": {},
          "execution_count": 100
        }
      ]
    },
    {
      "cell_type": "code",
      "source": [
        "len(test_dataset[1])"
      ],
      "metadata": {
        "colab": {
          "base_uri": "https://localhost:8080/"
        },
        "id": "l_L84V9yXRsY",
        "outputId": "217f4fde-4aca-4a92-88c5-ae9638613bb0"
      },
      "execution_count": 101,
      "outputs": [
        {
          "output_type": "execute_result",
          "data": {
            "text/plain": [
              "3000"
            ]
          },
          "metadata": {},
          "execution_count": 101
        }
      ]
    },
    {
      "cell_type": "code",
      "source": [
        "batch = next(iter(test_dataset))\n",
        "print(len(batch))  # Should output 2"
      ],
      "metadata": {
        "colab": {
          "base_uri": "https://localhost:8080/"
        },
        "id": "hOpCM2XT4kTM",
        "outputId": "40a82619-3470-490c-def5-828d48169882"
      },
      "execution_count": 102,
      "outputs": [
        {
          "output_type": "stream",
          "name": "stdout",
          "text": [
            "3000\n"
          ]
        }
      ]
    },
    {
      "cell_type": "code",
      "source": [
        "test_loss, test_accuracy = test(model, test_dataset, criterion, device = 'cpu')\n",
        "print(f'Test Loss: {test_loss:.4f}, Test Accuracy: {test_accuracy:.4f}')"
      ],
      "metadata": {
        "colab": {
          "base_uri": "https://localhost:8080/"
        },
        "id": "zmpL1SBNmggW",
        "outputId": "f41682dd-e095-4bb8-9edf-8ac71a257552"
      },
      "execution_count": 103,
      "outputs": [
        {
          "output_type": "stream",
          "name": "stdout",
          "text": [
            "Test Loss: 0.1559, Test Accuracy: 0.9637\n"
          ]
        }
      ]
    }
  ]
}